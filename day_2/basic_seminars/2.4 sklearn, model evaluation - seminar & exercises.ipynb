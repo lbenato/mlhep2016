{
 "cells": [
  {
   "cell_type": "markdown",
   "metadata": {
    "slideshow": {
     "slide_type": "slide"
    }
   },
   "source": [
    "# Sklearn\n",
    "1. Main Python ML library\n",
    "2. Has numerous features to assist on all steps of the pipeline"
   ]
  },
  {
   "cell_type": "code",
   "execution_count": 168,
   "metadata": {
    "collapsed": true
   },
   "outputs": [],
   "source": [
    "import root_pandas\n",
    "import numpy as np"
   ]
  },
  {
   "cell_type": "code",
   "execution_count": 160,
   "metadata": {
    "collapsed": false
   },
   "outputs": [],
   "source": [
    "data = root_pandas.read_root(\"/notebooks/public_train_10000.root\")\n",
    "features = data[list(set(data.columns) - {\"event_id\", \"target\"})]\n",
    "target = data[\"target\"]"
   ]
  },
  {
   "cell_type": "markdown",
   "metadata": {},
   "source": [
    "## KNN"
   ]
  },
  {
   "cell_type": "code",
   "execution_count": 169,
   "metadata": {
    "collapsed": true
   },
   "outputs": [],
   "source": [
    "from sklearn.neighbors import KNeighborsClassifier\n",
    "from sklearn.cross_validation import cross_val_score\n",
    "from sklearn.cross_validation import train_test_split\n",
    "from sklearn.metrics import roc_auc_score"
   ]
  },
  {
   "cell_type": "code",
   "execution_count": 20,
   "metadata": {
    "collapsed": false
   },
   "outputs": [],
   "source": [
    "trainX, testX, trainY, testY = train_test_split(features, target, random_state=42)"
   ]
  },
  {
   "cell_type": "code",
   "execution_count": 31,
   "metadata": {
    "collapsed": false
   },
   "outputs": [
    {
     "data": {
      "text/plain": [
       "0.62039587934568208"
      ]
     },
     "execution_count": 31,
     "metadata": {},
     "output_type": "execute_result"
    }
   ],
   "source": [
    "knn_clf = KNeighborsClassifier(n_neighbors=1)\n",
    "knn_clf.fit(trainX, trainY)\n",
    "roc_auc_score(testY, knn_clf.predict_proba(testX)[:, 1])"
   ]
  },
  {
   "cell_type": "markdown",
   "metadata": {},
   "source": [
    "How will this compare to cross validation?"
   ]
  },
  {
   "cell_type": "code",
   "execution_count": 173,
   "metadata": {
    "collapsed": false
   },
   "outputs": [
    {
     "name": "stdout",
     "output_type": "stream",
     "text": [
      "[ 0.62929012  0.61190728  0.6106668   0.61182106]\n"
     ]
    }
   ],
   "source": [
    "cv_scores = cross_val_score(\n",
    "    KNeighborsClassifier(n_neighbors=1), features, target, scoring='roc_auc', n_jobs=4, cv=4)\n",
    "print cv_scores"
   ]
  },
  {
   "cell_type": "code",
   "execution_count": 36,
   "metadata": {
    "collapsed": false
   },
   "outputs": [
    {
     "data": {
      "text/plain": [
       "(0.61592131519412685, 0.0077340089103426265)"
      ]
     },
     "execution_count": 36,
     "metadata": {},
     "output_type": "execute_result"
    }
   ],
   "source": [
    "np.mean(cv_scores), np.std(cv_scores)"
   ]
  },
  {
   "cell_type": "markdown",
   "metadata": {},
   "source": [
    "**Exercise 0**. How stable is validation using train_test_split compared to cross validation? Use different random seeds for train_test_split and plot the distribution of scores."
   ]
  },
  {
   "cell_type": "code",
   "execution_count": 99,
   "metadata": {
    "collapsed": false
   },
   "outputs": [
    {
     "data": {
      "text/plain": [
       "[<matplotlib.lines.Line2D at 0x7f5603366e10>]"
      ]
     },
     "execution_count": 99,
     "metadata": {},
     "output_type": "execute_result"
    },
    {
     "data": {
      "image/png": "[encoded data removed]",
      "text/plain": [
       "<matplotlib.figure.Figure at 0x7f56500b8e50>"
      ]
     },
     "metadata": {},
     "output_type": "display_data"
    }
   ],
   "source": [
    "#Exercise 0\n",
    "#seeds:\n",
    "seeds = [i for i in range(100)]\n",
    "tot_scores = []\n",
    "tot_scores_cv = []\n",
    "for i in seeds:\n",
    "    trainX, testX, trainY, testY = train_test_split(features, target, random_state=i)\n",
    "    knn_clf = KNeighborsClassifier(n_neighbors=1)\n",
    "    knn_clf.fit(trainX, trainY)\n",
    "    tot_scores.append(roc_auc_score(testY, knn_clf.predict_proba(testX)[:, 1]))\n",
    "cv_scores = cross_val_score(KNeighborsClassifier(n_neighbors=1), features, target, scoring='roc_auc', n_jobs=4, cv=100)\n",
    "#print cv_scores\n",
    "import matplotlib.pyplot as plt\n",
    "%matplotlib inline\n",
    "plt.plot(tot_scores, '-r')#in red\n",
    "plt.plot(cv_scores, '-b')#in blue"
   ]
  },
  {
   "cell_type": "code",
   "execution_count": 60,
   "metadata": {
    "collapsed": true
   },
   "outputs": [],
   "source": [
    "def get_mean_cross_val_score(estimator, X, Y, *args, **kwargs):\n",
    "    \"\"\"Returns the mean cross validtion score and its standart deviation\"\"\"\n",
    "    cv_scores = cross_val_score(estimator, X, Y, *args, **kwargs)\n",
    "    return (np.mean(cv_scores), np.std(cv_scores))"
   ]
  },
  {
   "cell_type": "markdown",
   "metadata": {},
   "source": [
    "Increasing the number of neighbours yields an improvement. "
   ]
  },
  {
   "cell_type": "code",
   "execution_count": 61,
   "metadata": {
    "collapsed": false
   },
   "outputs": [
    {
     "data": {
      "text/plain": [
       "(0.72285099723026269, 0.0066253468588189932)"
      ]
     },
     "execution_count": 61,
     "metadata": {},
     "output_type": "execute_result"
    }
   ],
   "source": [
    "get_mean_cross_val_score(KNeighborsClassifier(n_neighbors=10), features, target, scoring='roc_auc', n_jobs=4, cv=4)"
   ]
  },
  {
   "cell_type": "code",
   "execution_count": 88,
   "metadata": {
    "collapsed": false
   },
   "outputs": [
    {
     "name": "stdout",
     "output_type": "stream",
     "text": [
      "{'chebyshev': 0.70928708587662148, 'euclidean': 0.72285099723026269, 'manhattan': 0.72746332790870705, 'minkowski': 0.72285099723026269}\n"
     ]
    }
   ],
   "source": [
    "#Exercise 1\n",
    "metriche = ['euclidean','manhattan','chebyshev','minkowski']#'wminkowski','seuclidean', 'mahalanobis'\n",
    "valori = {l: {} for a,l in enumerate(metriche)}\n",
    "#for a in metriche:\n",
    "#    valori.append(get_mean_cross_val_score(KNeighborsClassifier(n_neighbors=10, metric=a), features, target, scoring='roc_auc', n_jobs=4, cv=4))\n",
    "for a in metriche:\n",
    "    u=get_mean_cross_val_score(KNeighborsClassifier(n_neighbors=10, metric=str(a)), features, target, scoring='roc_auc', n_jobs=4, cv=4)\n",
    "    #print a, u[0]\n",
    "    valori[a]=u[0]\n",
    "print valori"
   ]
  },
  {
   "cell_type": "markdown",
   "metadata": {},
   "source": [
    "**Exercise 1.** Try different distance metrics for KNN 0 find the best one."
   ]
  },
  {
   "cell_type": "markdown",
   "metadata": {},
   "source": [
    "## Decision tree"
   ]
  },
  {
   "cell_type": "code",
   "execution_count": 162,
   "metadata": {
    "collapsed": true
   },
   "outputs": [],
   "source": [
    "from sklearn.tree import DecisionTreeClassifier"
   ]
  },
  {
   "cell_type": "markdown",
   "metadata": {},
   "source": [
    "One of the few advantages of the decision tree is its interpretability"
   ]
  },
  {
   "cell_type": "code",
   "execution_count": 167,
   "metadata": {
    "collapsed": false
   },
   "outputs": [],
   "source": [
    "tree = DecisionTreeClassifier(max_depth=3).fit(features, target)"
   ]
  },
  {
   "cell_type": "markdown",
   "metadata": {},
   "source": [
    "**Exercise 2.** Plot cross validation score of a DecisionTreeClassifier as a function of max_depth."
   ]
  },
  {
   "cell_type": "code",
   "execution_count": 123,
   "metadata": {
    "collapsed": false
   },
   "outputs": [
    {
     "name": "stdout",
     "output_type": "stream",
     "text": [
      "max score:  0.707809270057\n",
      "best n depths:  6\n"
     ]
    },
    {
     "data": {
      "text/plain": [
       "<matplotlib.text.Text at 0x7f5601388750>"
      ]
     },
     "execution_count": 123,
     "metadata": {},
     "output_type": "execute_result"
    },
    {
     "data": {
      "image/png": "[encoded data removed]",
      "text/plain": [
       "<matplotlib.figure.Figure at 0x7f560177fc10>"
      ]
     },
     "metadata": {},
     "output_type": "display_data"
    }
   ],
   "source": [
    "#Exercise 2\n",
    "#print tree\n",
    "depths = [a for a in range(1,21)]\n",
    "scores = []\n",
    "massimo_x = 0\n",
    "massimo_y = 0\n",
    "for i in depths:\n",
    "    cv_scores = cross_val_score(DecisionTreeClassifier(max_depth=i).fit(features, target), features, target, scoring='roc_auc', n_jobs=4, cv=10)\n",
    "    scores.append(np.mean(cv_scores))\n",
    "    if scores[i-1] > massimo_y:\n",
    "#        print \"aljdf\"\n",
    "        massimo_x = i\n",
    "        massimo_y = scores[i-1]\n",
    "print \"max score: \", np.max(scores)\n",
    "print \"best n depths: \", massimo_x\n",
    "#print scores\n",
    "import matplotlib.pyplot as plt2\n",
    "%matplotlib inline\n",
    "plt2.plot(depths, scores, '-r')#in red\n",
    "plt2.xlabel(\"n depths\")\n",
    "plt2.ylabel(\"scores\")\n",
    "###plt2.plot(cv_scores, '-b')#in blue"
   ]
  },
  {
   "cell_type": "markdown",
   "metadata": {},
   "source": [
    "## Linear regression + Ridge regularization¶"
   ]
  },
  {
   "cell_type": "code",
   "execution_count": 150,
   "metadata": {
    "collapsed": false
   },
   "outputs": [
    {
     "name": "stdout",
     "output_type": "stream",
     "text": [
      "0.625675911838\n",
      "0.629631151303\n"
     ]
    }
   ],
   "source": [
    "from sklearn.linear_model import RidgeClassifier\n",
    "\n",
    "ridge_clf = RidgeClassifier()\n",
    "ridge_clf.fit(trainX, trainY)\n",
    "print roc_auc_score(testY, ridge_clf.predict(testX))\n",
    "print roc_auc_score(trainY, ridge_clf.predict(trainX))"
   ]
  },
  {
   "cell_type": "markdown",
   "metadata": {},
   "source": [
    "**Exercise 3.** Plot how regularization parametera alpha of RidgeClassifier, affects quality on train and test."
   ]
  },
  {
   "cell_type": "code",
   "execution_count": 172,
   "metadata": {
    "collapsed": false
   },
   "outputs": [
    {
     "data": {
      "image/png": "[encoded data removed]",
      "text/plain": [
       "<matplotlib.figure.Figure at 0x7f56008aa690>"
      ]
     },
     "metadata": {},
     "output_type": "display_data"
    },
    {
     "data": {
      "image/png": "[encoded data removed]",
      "text/plain": [
       "<matplotlib.figure.Figure at 0x7f5600765bd0>"
      ]
     },
     "metadata": {},
     "output_type": "display_data"
    }
   ],
   "source": [
    "#Excercise 3\n",
    "alfa = np.arange(0,100,0.1)\n",
    "test_a = []\n",
    "train_a = []\n",
    "for a in alfa:\n",
    "    ridge_a = RidgeClassifier(alpha=a).fit(trainX,trainY)\n",
    "    #print a\n",
    "    #print roc_auc_score(testY, ridge_a.predict(testX))\n",
    "    test_a.append(roc_auc_score(testY, ridge_a.predict(testX)))\n",
    "    train_a.append(roc_auc_score(trainY, ridge_a.predict(trainX)))\n",
    "\n",
    "#print train_a\n",
    "import matplotlib.pyplot as plt_a\n",
    "%matplotlib inline\n",
    "plt_a.plot(alfa, train_a, '-r')#in red\n",
    "#plt_a.plot(alfa, test_a, '-r')#in blue\n",
    "plt_a.xlabel(\"alpha\")\n",
    "plt_a.ylabel(\"roc auc scores\")\n",
    "plt_a.title(\"TRAIN\")\n",
    "plt_a.show()\n",
    "import matplotlib.pyplot as plt_b\n",
    "plt_b.plot(alfa, test_a, '-b')#in red\n",
    "#plt_a.plot(alfa, test_a, '-r')#in blue\n",
    "plt_b.xlabel(\"alpha\")\n",
    "plt_b.ylabel(\"roc auc scores, test\")\n",
    "plt_b.title(\"TEST\")\n",
    "plt_b.show()"
   ]
  },
  {
   "cell_type": "markdown",
   "metadata": {},
   "source": [
    "**Exercise 4.** Find the most important features for Decision tree - use feature\\_importances_ . Verify whether they make sense. Take first N features by importance, cross-validate the Decision tree, plot the dependance of the score on N. Alternative"
   ]
  },
  {
   "cell_type": "code",
   "execution_count": 157,
   "metadata": {
    "collapsed": true
   },
   "outputs": [],
   "source": [
    "#Excercise 4"
   ]
  },
  {
   "cell_type": "markdown",
   "metadata": {},
   "source": [
    "Many thanks to Alexey and Tatiana for the materials inspiraiton."
   ]
  }
 ],
 "metadata": {
  "kernelspec": {
   "display_name": "Python 2",
   "language": "python",
   "name": "python2"
  },
  "language_info": {
   "codemirror_mode": {
    "name": "ipython",
    "version": 2
   },
   "file_extension": ".py",
   "mimetype": "text/x-python",
   "name": "python",
   "nbconvert_exporter": "python",
   "pygments_lexer": "ipython2",
   "version": "2.7.11"
  }
 },
 "nbformat": 4,
 "nbformat_minor": 0
}
