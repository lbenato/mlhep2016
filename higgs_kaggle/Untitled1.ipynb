{
 "cells": [
  {
   "cell_type": "code",
   "execution_count": 1,
   "metadata": {
    "collapsed": false
   },
   "outputs": [
    {
     "name": "stdout",
     "output_type": "stream",
     "text": [
      "remote: Counting objects: 34, done.\u001b[K\n",
      "remote: Compressing objects: 100% (6/6), done.\u001b[K\n",
      "remote: Total 34 (delta 2), reused 2 (delta 2), pack-reused 26\u001b[K\n",
      "Unpacking objects: 100% (34/34), done.\n",
      "From https://github.com/yandexdataschool/mlhep2016\n",
      "   ef4433f..432b609  master     -> origin/master\n",
      "Updating ef4433f..432b609\n",
      "Fast-forward\n",
      " day_4/dl-mnist/Seminar4-en.ipynb              | 1398 \u001b[32m+++++++++++++++++++++++++\u001b[m\n",
      " day_4/dl-mnist/mnist.py                       |   63 \u001b[32m++\u001b[m\n",
      " day_4/seminars/deeplearning/DL_seminar0.ipynb | 1347 \u001b[32m++++++++++++++++++++++++\u001b[m\n",
      " day_4/seminars/deeplearning/notmnist.py       |  117 \u001b[32m+++\u001b[m\n",
      " 4 files changed, 2925 insertions(+)\n",
      " create mode 100644 day_4/dl-mnist/Seminar4-en.ipynb\n",
      " create mode 100644 day_4/dl-mnist/mnist.py\n",
      " create mode 100644 day_4/seminars/deeplearning/DL_seminar0.ipynb\n",
      " create mode 100644 day_4/seminars/deeplearning/notmnist.py\n"
     ]
    }
   ],
   "source": [
    "!git pull"
   ]
  }
 ],
 "metadata": {
  "kernelspec": {
   "display_name": "Python 2",
   "language": "python",
   "name": "python2"
  },
  "language_info": {
   "codemirror_mode": {
    "name": "ipython",
    "version": 2
   },
   "file_extension": ".py",
   "mimetype": "text/x-python",
   "name": "python",
   "nbconvert_exporter": "python",
   "pygments_lexer": "ipython2",
   "version": "2.7.11"
  }
 },
 "nbformat": 4,
 "nbformat_minor": 0
}
